{
 "cells": [
  {
   "cell_type": "markdown",
   "id": "d7d8810e",
   "metadata": {},
   "source": [
    "## Data Extraction Eval Toolset Development"
   ]
  },
  {
   "cell_type": "code",
   "execution_count": null,
   "id": "1b9c3cbc",
   "metadata": {},
   "outputs": [],
   "source": [
    "%pip install pdf2image"
   ]
  },
  {
   "cell_type": "code",
   "execution_count": null,
   "id": "e3345fa9",
   "metadata": {},
   "outputs": [],
   "source": [
    "%pip install pillow"
   ]
  },
  {
   "cell_type": "code",
   "execution_count": null,
   "id": "358b2cd5",
   "metadata": {},
   "outputs": [],
   "source": [
    "%pip install python-dotenv"
   ]
  },
  {
   "cell_type": "code",
   "execution_count": null,
   "id": "9a442391",
   "metadata": {},
   "outputs": [],
   "source": [
    "%pip install -U langchain-ollama"
   ]
  },
  {
   "cell_type": "code",
   "execution_count": null,
   "id": "e74e6b36",
   "metadata": {},
   "outputs": [],
   "source": [
    "%pip install mistralai"
   ]
  },
  {
   "cell_type": "code",
   "execution_count": null,
   "id": "3ff19b81",
   "metadata": {},
   "outputs": [],
   "source": [
    "%pip install openai"
   ]
  },
  {
   "cell_type": "code",
   "execution_count": null,
   "id": "655f088d",
   "metadata": {},
   "outputs": [],
   "source": [
    "poppler_path = r\"C:\\Users\\HP Victus\\Downloads\\Release-24.08.0-0\\poppler-24.08.0\\Library\\bin\"\n",
    "print(\"Poppler path set to:\", poppler_path)"
   ]
  },
  {
   "cell_type": "markdown",
   "id": "75d4c1b5",
   "metadata": {},
   "source": [
    "#### Loading the environment variables"
   ]
  },
  {
   "cell_type": "code",
   "execution_count": 11,
   "id": "5b399d5a",
   "metadata": {},
   "outputs": [],
   "source": [
    "from dotenv import load_dotenv\n",
    "import os\n",
    "\n",
    "load_dotenv()\n",
    "openai_api_key = os.getenv(\"OPENAI_API_KEY\")\n",
    "mistral_ocr_key = os.getenv(\"MISTRAL_OCR_KEY\")\n",
    "mistral_local_LLM = os.getenv(\"MISTRAL_LOCAL_LLM\")\n",
    "ollama_model_seven = os.getenv(\"OLLAMA_MODEL_SEVEN\")\n",
    "ollama_model_eight = os.getenv(\"OLLAMA_MODEL_EIGHT\")\n",
    "ollama_model_nine = os.getenv(\"OLLAMA_MODEL_NINE\")\n",
    "ollama_model_ten = os.getenv(\"OLLAMA_MODEL_TEN\")\n"
   ]
  },
  {
   "cell_type": "code",
   "execution_count": 2,
   "id": "974b8d96",
   "metadata": {},
   "outputs": [],
   "source": [
    "max_tokens=2048\n",
    "temperature = 0.2\n",
    "top_p=0.9\n",
    "presence_penalty=0.0\n",
    "frequency_penalty=0.0\n"
   ]
  },
  {
   "cell_type": "markdown",
   "id": "d94a7abc",
   "metadata": {},
   "source": [
    "#### Creating a function to convert pdf pages to images using pdf2image and poppler"
   ]
  },
  {
   "cell_type": "code",
   "execution_count": 12,
   "id": "5a553846",
   "metadata": {},
   "outputs": [],
   "source": [
    "from PyPDF2 import PdfReader, PdfWriter\n",
    "import os\n",
    "from pdf2image import convert_from_path\n",
    "from pdf2image.exceptions import PDFPageCountError\n",
    "\n",
    "def convert_pdf_to_image(child_pdf_path):\n",
    "    # Ensure the main images directory exists\n",
    "    images_output_folder = './images'\n",
    "    os.makedirs(images_output_folder, exist_ok=True)\n",
    "    child_pdf_name = os.path.basename(child_pdf_path).split('.')[0]\n",
    "    print(f\"Child PDF Name: {child_pdf_name}\")\n",
    "\n",
    "    print(f\"Processing: {child_pdf_path}\")\n",
    "\n",
    "    try:\n",
    "        # Convert PDF pages to images\n",
    "        images = convert_from_path(child_pdf_path, poppler_path=poppler_path)\n",
    "        \n",
    "        # Save the images to the subfolder\n",
    "        for i, img in enumerate(images):\n",
    "            image_path = os.path.join(images_output_folder, f'{child_pdf_name}.png')\n",
    "            img.save(image_path, 'PNG')\n",
    "\n",
    "        print(f\"Saved images for {os.path.basename(child_pdf_path)} in {images_output_folder}\")\n",
    "    \n",
    "    except PDFPageCountError:\n",
    "        print(f\"Error: Unable to get page count for {child_pdf_path}. The file might be corrupted or not a valid PDF.\")\n",
    "    except FileNotFoundError:\n",
    "        print(f\"Error: File {child_pdf_path} not found.\")\n",
    "    except Exception as e:\n",
    "        print(f\"An unexpected error occurred while processing {child_pdf_path}: {e}\")"
   ]
  },
  {
   "cell_type": "markdown",
   "id": "31eef4ea",
   "metadata": {},
   "source": [
    "#### Finally converting PDF to images with function invocation"
   ]
  },
  {
   "cell_type": "code",
   "execution_count": 13,
   "id": "a58482c7",
   "metadata": {},
   "outputs": [
    {
     "name": "stdout",
     "output_type": "stream",
     "text": [
      "Child PDF Name: output_1\n",
      "Processing: ./uploaded_invoices\\output_1.pdf\n",
      "Saved images for output_1.pdf in ./images\n"
     ]
    }
   ],
   "source": [
    "import os\n",
    "\n",
    "# Sort files, treating non-numeric prefixes as having the highest sort order\n",
    "for file in sorted(os.listdir('./uploaded_invoices'), key=lambda x: int(x.split('.')[0]) if x.split('.')[0].isdigit() else float('inf')):\n",
    "    if file.endswith('.pdf'):\n",
    "        child_pdf_path = os.path.join('./uploaded_invoices', file)\n",
    "        convert_pdf_to_image(child_pdf_path)"
   ]
  },
  {
   "cell_type": "markdown",
   "id": "9d0118d9",
   "metadata": {},
   "source": [
    "#### Writing the System Prompt for Data Extraction"
   ]
  },
  {
   "cell_type": "code",
   "execution_count": 14,
   "id": "8a99c03d",
   "metadata": {},
   "outputs": [],
   "source": [
    "data_extraction_system_prompt = f\"\"\" You are a data extraction system. Your task is to extract key information from\n",
    "the invoice provided to you as an image.\"\"\""
   ]
  },
  {
   "cell_type": "markdown",
   "id": "a2e89c91",
   "metadata": {},
   "source": [
    "#### Creating a function to generate local base64 URL for an image"
   ]
  },
  {
   "cell_type": "code",
   "execution_count": 15,
   "id": "e7db53dc",
   "metadata": {},
   "outputs": [],
   "source": [
    "import os\n",
    "import base64\n",
    "from IPython.display import Image, display\n",
    "\n",
    "def generate_base64_url(child_pdf_image_path):\n",
    "            print(f\"Processing image: {child_pdf_image_path}\")\n",
    "            \n",
    "            # Read the image file in binary mode\n",
    "            with open(child_pdf_image_path, \"rb\") as img_file:\n",
    "                raw_data = img_file.read()\n",
    "                image_data = base64.b64encode(raw_data).decode(\"utf-8\")\n",
    "            \n",
    "            # Determine the image format\n",
    "            image_format = child_pdf_image_path.split('.')[-1]\n",
    "            \n",
    "            # Generate the data URL (optional, for other use cases)\n",
    "            data_url = f\"data:image/{image_format};base64,{image_data}\"\n",
    "            \n",
    "            # Print the data URL (or save it as needed)\n",
    "            print(f\"Data URL for {child_pdf_image_path}:\\n{data_url[:100]}...\\n\")  # printing full base64 is too long\n",
    "            \n",
    "           \n",
    "            return data_url"
   ]
  },
  {
   "cell_type": "markdown",
   "id": "14486f0f",
   "metadata": {},
   "source": [
    "#### Creating a Function to Encode PDF with Base64"
   ]
  },
  {
   "cell_type": "code",
   "execution_count": 16,
   "id": "3bdc3351",
   "metadata": {},
   "outputs": [],
   "source": [
    "def encode_pdf(pdf_path):\n",
    "    \"\"\"Encode the pdf to base64.\"\"\"\n",
    "    try:\n",
    "        with open(pdf_path, \"rb\") as pdf_file:\n",
    "            return base64.b64encode(pdf_file.read()).decode('utf-8')\n",
    "    except FileNotFoundError:\n",
    "        print(f\"Error: The file {pdf_path} was not found.\")\n",
    "        return None\n",
    "    except Exception as e:  # Added general exception handling\n",
    "        print(f\"Error: {e}\")\n",
    "        return None"
   ]
  },
  {
   "cell_type": "markdown",
   "id": "854dd658",
   "metadata": {},
   "source": [
    "#### Function to Generate Markdown from MISTRAL OCR"
   ]
  },
  {
   "cell_type": "code",
   "execution_count": 17,
   "id": "ded5db5b",
   "metadata": {},
   "outputs": [],
   "source": [
    "import base64\n",
    "import requests\n",
    "import os\n",
    "from mistralai import Mistral\n",
    "import pprint\n",
    "\n",
    "def generate_markdown_from_mistral_OCR(image_path):\n",
    "\n",
    "    # Getting the base64 string\n",
    "    image_base_64_path = generate_base64_url(image_path)\n",
    "\n",
    "    \n",
    "    client = Mistral(api_key=mistral_ocr_key)\n",
    "\n",
    "    ocr_response = client.ocr.process(\n",
    "        model=\"mistral-ocr-latest\",\n",
    "        document={\n",
    "            \"type\": \"image_url\",\n",
    "            \"image_url\": f\"{image_base_64_path}\" \n",
    "        }\n",
    "    )\n",
    "    \n",
    "    \n",
    "    print(ocr_response.pages[0].markdown)\n",
    "    return str((ocr_response))"
   ]
  },
  {
   "cell_type": "code",
   "execution_count": 18,
   "id": "ec1318c4",
   "metadata": {},
   "outputs": [
    {
     "name": "stdout",
     "output_type": "stream",
     "text": [
      "Processing image: ./images/output_1.png\n",
      "Data URL for ./images/output_1.png:\n",
      "data:image/png;base64,iVBORw0KGgoAAAANSUhEUgAABnMAAAV2CAIAAADOYd7mAAEAAElEQVR4nOzdUbaqOpCAYeh15yWODB...\n",
      "\n",
      "# Lutz Isdebski \n",
      "\n",
      "## Schornsteinfegermeister\n",
      "\n",
      "## Schornsteinfegertachbetrieb\n",
      "\n",
      "Arnoldstraße 7\n",
      "63075 Offenbach am Main\n",
      "St.-Nr.: 03583063531\n",
      "![img-0.jpeg](img-0.jpeg)\n",
      "\n",
      "Tel. 069 / 21002021\n",
      "Mobil. 017620465243\n",
      "\n",
      "Bankverbindung: Commerzbank BLZ:50540028 Kto.Nr.:281809400\n",
      "IBAN: DE19 505400280281809400\n",
      "Swift-Adresse(BIC): COBADEFF\n",
      "\n",
      "## Rechnung\n",
      "\n",
      "Rechnungs-Nummer: 646.000 - 1269\n",
      "Rechnungs-Datum: $\\quad 08.05 .2023$\n",
      "Bei Zahlungs- und Schriftverkehr immer angeben!\n",
      "Effizienz Check\n",
      "\n",
      "Jahresabrechnung 2023\n",
      "\n",
      "## Betrifft:\n",
      "\n",
      "Kurhessenstraße 55\n",
      "63075 Offenbach\n",
      "\n",
      "Leistungsdatum: K-05.05.2023, (1-05.05.2023,\n",
      "Gebåude-\n",
      "Nr. Leistung\n",
      "Anzahl Größe AW Betrag\n",
      "\n",
      "| (1) | 1,0 | 27,100 | 36,32 |\n",
      "| :--: | :--: | :--: | :--: |\n",
      "| 1 | 10,0 | 6,100 | 8,17 |\n",
      "| 1 | 10,0 | 4,100 | 5,49 |\n",
      "| 1 | 1,0 | 19,280 | 25,84 |\n",
      "| 1 | 1,0 | 2,240 | 3,00 |\n",
      "| 1 | 1,0 | 37,810 | 37,81 |\n",
      "| Zwischensumme EUR | 116,63 | Mehrwertsteuer $19 \\%$ | 22,16 |\n",
      "\n",
      "Zahlbar nach Erhalt der Rechnung ohne Abzug\n",
      "In den Kosten sind keine Materialkosten enthalten. Sie haben als Privatkunde Leistungen für ein Grundstück bezogen. Gemäß § 14 Abs. 4 Satz 1 N. 9 UstG sind wir verpflichtet, Sie darauf hinzuweisen, dass Sie diese Rechnung 2 Jahre lang aufbewahren müssen\n",
      "![img-1.jpeg](img-1.jpeg)\n"
     ]
    },
    {
     "data": {
      "text/plain": [
       "\"pages=[OCRPageObject(index=0, markdown='# Lutz Isdebski \\\\n\\\\n## Schornsteinfegermeister\\\\n\\\\n## Schornsteinfegertachbetrieb\\\\n\\\\nArnoldstraße 7\\\\n63075 Offenbach am Main\\\\nSt.-Nr.: 03583063531\\\\n![img-0.jpeg](img-0.jpeg)\\\\n\\\\nTel. 069 / 21002021\\\\nMobil. 017620465243\\\\n\\\\nBankverbindung: Commerzbank BLZ:50540028 Kto.Nr.:281809400\\\\nIBAN: DE19 505400280281809400\\\\nSwift-Adresse(BIC): COBADEFF\\\\n\\\\n## Rechnung\\\\n\\\\nRechnungs-Nummer: 646.000 - 1269\\\\nRechnungs-Datum: $\\\\\\\\quad 08.05 .2023$\\\\nBei Zahlungs- und Schriftverkehr immer angeben!\\\\nEffizienz Check\\\\n\\\\nJahresabrechnung 2023\\\\n\\\\n## Betrifft:\\\\n\\\\nKurhessenstraße 55\\\\n63075 Offenbach\\\\n\\\\nLeistungsdatum: K-05.05.2023, (1-05.05.2023,\\\\nGebåude-\\\\nNr. Leistung\\\\nAnzahl Größe AW Betrag\\\\n\\\\n| (1) | 1,0 | 27,100 | 36,32 |\\\\n| :--: | :--: | :--: | :--: |\\\\n| 1 | 10,0 | 6,100 | 8,17 |\\\\n| 1 | 10,0 | 4,100 | 5,49 |\\\\n| 1 | 1,0 | 19,280 | 25,84 |\\\\n| 1 | 1,0 | 2,240 | 3,00 |\\\\n| 1 | 1,0 | 37,810 | 37,81 |\\\\n| Zwischensumme EUR | 116,63 | Mehrwertsteuer $19 \\\\\\\\%$ | 22,16 |\\\\n\\\\nZahlbar nach Erhalt der Rechnung ohne Abzug\\\\nIn den Kosten sind keine Materialkosten enthalten. Sie haben als Privatkunde Leistungen für ein Grundstück bezogen. Gemäß § 14 Abs. 4 Satz 1 N. 9 UstG sind wir verpflichtet, Sie darauf hinzuweisen, dass Sie diese Rechnung 2 Jahre lang aufbewahren müssen\\\\n![img-1.jpeg](img-1.jpeg)', images=[OCRImageObject(id='img-0.jpeg', top_left_x=752, top_left_y=74, bottom_right_x=927, bottom_right_y=244, image_base64=None), OCRImageObject(id='img-1.jpeg', top_left_x=1362, top_left_y=1167, bottom_right_x=1601, bottom_right_y=1328, image_base64=None)], dimensions=OCRPageDimensions(dpi=200, height=1398, width=1651))] model='mistral-ocr-2503-completion' usage_info=OCRUsageInfo(pages_processed=1, doc_size_bytes=101585)\""
      ]
     },
     "execution_count": 18,
     "metadata": {},
     "output_type": "execute_result"
    }
   ],
   "source": [
    "generate_markdown_from_mistral_OCR('./images/output_1.png')"
   ]
  },
  {
   "cell_type": "markdown",
   "id": "08204a8a",
   "metadata": {},
   "source": [
    "#### Creating Function to Call GPT-4 Vision Model"
   ]
  },
  {
   "cell_type": "code",
   "execution_count": null,
   "id": "22fae903",
   "metadata": {},
   "outputs": [],
   "source": [
    "import base64\n",
    "from openai import OpenAI\n",
    "\n",
    "def call_openai_vision_model(image_path):\n",
    "    base64_path = generate_base64_url(image_path)\n",
    "    # Initialize the OpenAI client\n",
    "    client = OpenAI(api_key=openai_api_key)\n",
    "    response = client.responses.create(\n",
    "    model=\"gpt-4.1-mini\",\n",
    "    input=[\n",
    "        {\n",
    "            \"role\": \"user\",\n",
    "            \"content\": [\n",
    "                { \"type\": \"input_text\", \"text\": \"what's in this image?\" },\n",
    "                {\n",
    "                    \"type\": \"input_image\",\n",
    "                    \"image_url\": f\"{base64_path}\",\n",
    "                },\n",
    "            ],\n",
    "        }\n",
    "    ],\n",
    "    max_output_tokens=max_tokens,\n",
    "    temperature=temperature,\n",
    "    top_p=top_p,\n",
    "    \n",
    "    \n",
    "    )\n",
    "\n",
    "    print(response.output_text)"
   ]
  },
  {
   "cell_type": "code",
   "execution_count": null,
   "id": "253bc34b",
   "metadata": {},
   "outputs": [],
   "source": []
  }
 ],
 "metadata": {
  "kernelspec": {
   "display_name": "Python 3",
   "language": "python",
   "name": "python3"
  },
  "language_info": {
   "codemirror_mode": {
    "name": "ipython",
    "version": 3
   },
   "file_extension": ".py",
   "mimetype": "text/x-python",
   "name": "python",
   "nbconvert_exporter": "python",
   "pygments_lexer": "ipython3",
   "version": "3.11.5"
  }
 },
 "nbformat": 4,
 "nbformat_minor": 5
}
