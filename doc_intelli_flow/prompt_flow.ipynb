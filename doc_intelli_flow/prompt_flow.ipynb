{
 "cells": [
  {
   "cell_type": "markdown",
   "metadata": {},
   "source": [
    "```markdown\n",
    "![Sample Image](https://github.com/kuljotSB/EssencifAIconsultancy/blob/main/doc_intelli_flow/assets/prompt_flow_image.png?raw=true)\n",
    "```"
   ]
  },
  {
   "cell_type": "markdown",
   "metadata": {},
   "source": [
    "### Extract_Info component"
   ]
  },
  {
   "cell_type": "code",
   "execution_count": null,
   "metadata": {},
   "outputs": [],
   "source": [
    "from promptflow import tool\n",
    "from azure.core.credentials import AzureKeyCredential\n",
    "from azure.ai.documentintelligence import DocumentIntelligenceClient\n",
    "from azure.ai.documentintelligence.models import AnalyzeResult\n",
    "from azure.ai.documentintelligence.models import AnalyzeDocumentRequest\n",
    "\n",
    "\n",
    "endpoint = \"https://kuljotdocintelli.cognitiveservices.azure.com/\"\n",
    "key = \"3XNgoPaZpLAVKobCXlAjOb6mUL66lAVIBSFKK3O7Cn85NcS1ei3EJQQJ99BCACYeBjFXJ3w3AAALACOGooKD\"\n",
    "\n",
    "# The inputs section will change based on the arguments of the tool function, after you save the code\n",
    "# Adding type to arguments and return value will help the system show the types properly\n",
    "# Please update the function name/signature per need\n",
    "@tool\n",
    "def document_intelligence(url: str)->dict:\n",
    "  finalResponse=\"\"\n",
    "\n",
    "  document_intelligence_client = DocumentIntelligenceClient(\n",
    "    endpoint=endpoint, credential=AzureKeyCredential(key)\n",
    "    )\n",
    "    \n",
    "  poller = document_intelligence_client.begin_analyze_document(\n",
    "        \"prebuilt-invoice\", AnalyzeDocumentRequest(url_source=url)\n",
    "    )\n",
    "  invoices = poller.result()\n",
    "\n",
    "  invoice_data = []\n",
    "\n",
    "  for idx, invoice in enumerate(invoices.documents):\n",
    "    invoice_dict = {}\n",
    "    \n",
    "    def add_field(field_name, invoice_field, value_attr):\n",
    "        if invoice_field:\n",
    "            invoice_dict[field_name] = getattr(invoice_field, value_attr, None)\n",
    "    \n",
    "    add_field(\"VendorName\", invoice.fields.get(\"VendorName\"), \"value_string\")\n",
    "    add_field(\"VendorAddress\", invoice.fields.get(\"VendorAddress\"), \"value_address\")\n",
    "    add_field(\"VendorAddressRecipient\", invoice.fields.get(\"VendorAddressRecipient\"), \"value_string\")\n",
    "    add_field(\"CustomerName\", invoice.fields.get(\"CustomerName\"), \"value_string\")\n",
    "    add_field(\"CustomerId\", invoice.fields.get(\"CustomerId\"), \"value_string\")\n",
    "    add_field(\"CustomerAddress\", invoice.fields.get(\"CustomerAddress\"), \"value_address\")\n",
    "    add_field(\"CustomerAddressRecipient\", invoice.fields.get(\"CustomerAddressRecipient\"), \"value_string\")\n",
    "    add_field(\"InvoiceId\", invoice.fields.get(\"InvoiceId\"), \"value_string\")\n",
    "    add_field(\"InvoiceDate\", invoice.fields.get(\"InvoiceDate\"), \"value_date\")\n",
    "    add_field(\"InvoiceTotal\", invoice.fields.get(\"InvoiceTotal\"), \"value_currency.amount\")\n",
    "    add_field(\"DueDate\", invoice.fields.get(\"DueDate\"), \"value_date\")\n",
    "    add_field(\"PurchaseOrder\", invoice.fields.get(\"PurchaseOrder\"), \"value_string\")\n",
    "    add_field(\"BillingAddress\", invoice.fields.get(\"BillingAddress\"), \"value_address\")\n",
    "    add_field(\"BillingAddressRecipient\", invoice.fields.get(\"BillingAddressRecipient\"), \"value_string\")\n",
    "    add_field(\"ShippingAddress\", invoice.fields.get(\"ShippingAddress\"), \"value_address\")\n",
    "    add_field(\"ShippingAddressRecipient\", invoice.fields.get(\"ShippingAddressRecipient\"), \"value_string\")\n",
    "    \n",
    "    invoice_dict[\"Items\"] = []\n",
    "    \n",
    "    for item in invoice.fields.get(\"Items\", {}).value_array:\n",
    "        item_dict = {}\n",
    "        add_field(\"Description\", item.value_object.get(\"Description\"), \"value_string\")\n",
    "        add_field(\"Quantity\", item.value_object.get(\"Quantity\"), \"value_number\")\n",
    "        add_field(\"Unit\", item.value_object.get(\"Unit\"), \"value_number\")\n",
    "        add_field(\"UnitPrice\", item.value_object.get(\"UnitPrice\"), \"value_currency.amount\")\n",
    "        add_field(\"ProductCode\", item.value_object.get(\"ProductCode\"), \"value_string\")\n",
    "        add_field(\"Date\", item.value_object.get(\"Date\"), \"value_date\")\n",
    "        add_field(\"Tax\", item.value_object.get(\"Tax\"), \"value_string\")\n",
    "        add_field(\"Amount\", item.value_object.get(\"Amount\"), \"value_currency.amount\")\n",
    "        invoice_dict[\"Items\"].append(item_dict)\n",
    "    \n",
    "    add_field(\"SubTotal\", invoice.fields.get(\"SubTotal\"), \"value_currency.amount\")\n",
    "    add_field(\"TotalTax\", invoice.fields.get(\"TotalTax\"), \"value_currency.amount\")\n",
    "    add_field(\"PreviousUnpaidBalance\", invoice.fields.get(\"PreviousUnpaidBalance\"), \"value_currency.amount\")\n",
    "    add_field(\"AmountDue\", invoice.fields.get(\"AmountDue\"), \"value_currency.amount\")\n",
    "    add_field(\"ServiceStartDate\", invoice.fields.get(\"ServiceStartDate\"), \"value_date\")\n",
    "    add_field(\"ServiceEndDate\", invoice.fields.get(\"ServiceEndDate\"), \"value_date\")\n",
    "    add_field(\"ServiceAddress\", invoice.fields.get(\"ServiceAddress\"), \"value_address\")\n",
    "    add_field(\"ServiceAddressRecipient\", invoice.fields.get(\"ServiceAddressRecipient\"), \"value_string\")\n",
    "    add_field(\"RemittanceAddress\", invoice.fields.get(\"RemittanceAddress\"), \"value_address\")\n",
    "    add_field(\"RemittanceAddressRecipient\", invoice.fields.get(\"RemittanceAddressRecipient\"), \"value_string\")\n",
    "    \n",
    "    invoice_data.append(invoice_dict)\n",
    "  return invoice_data\n",
    "\n",
    "  \n",
    " "
   ]
  },
  {
   "cell_type": "markdown",
   "metadata": {},
   "source": [
    "### Summarisation Component"
   ]
  },
  {
   "cell_type": "code",
   "execution_count": null,
   "metadata": {},
   "outputs": [],
   "source": [
    "#system:\n",
    "You are a helpful AI assistant made to behave as a document extraction bot. \n",
    "Prior to calling you, the analyse API of azure document intelligence was called\n",
    "to extract information from a document and you will be provided with the JSON schema\n",
    "of the document information containing key-value pairs like merchant address, items,\n",
    "subtotal value etc of a single invoice.\n",
    "\n",
    "Your work is to generate a markdown of the information contained in the invoice \n",
    "passed down to you!\n",
    "\n",
    "#user:\n",
    "document extracted information: {{doc__information}}"
   ]
  },
  {
   "cell_type": "markdown",
   "metadata": {},
   "source": [
    "### Output_Parser component"
   ]
  },
  {
   "cell_type": "code",
   "execution_count": null,
   "metadata": {},
   "outputs": [],
   "source": [
    "from promptflow import tool\n",
    "import json\n",
    "from datetime import date\n",
    "\n",
    "def serialize(obj):\n",
    "    \"\"\"Custom serialization function for unsupported types.\"\"\"\n",
    "    if isinstance(obj, date):  # Convert datetime.date to string\n",
    "        return obj.isoformat()\n",
    "    if hasattr(obj, \"__dict__\"):  # Convert objects with `__dict__` attribute to a dict\n",
    "        return obj.__dict__\n",
    "    return str(obj)  # Fallback to string conversion\n",
    "\n",
    "@tool\n",
    "def my_python_tool(markdown_text: str, json_struct: dict):\n",
    "    final_response_dict = {\n",
    "        \"markdown_text\": markdown_text,\n",
    "        \"json_struct\": json_struct\n",
    "    }\n",
    "\n",
    "    return json.loads(json.dumps(final_response_dict, default=serialize))  # Ensure JSON serializable\n"
   ]
  }
 ],
 "metadata": {
  "language_info": {
   "name": "python"
  }
 },
 "nbformat": 4,
 "nbformat_minor": 2
}
