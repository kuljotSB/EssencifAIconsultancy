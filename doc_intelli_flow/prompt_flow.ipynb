{
 "cells": [
  {
   "cell_type": "markdown",
   "metadata": {},
   "source": [
    "\n",
    "![Sample Image](https://github.com/kuljotSB/EssencifAIconsultancy/blob/main/doc_intelli_flow/assets/prompt_flow_image.png?raw=true)\n"
   ]
  },
  {
   "cell_type": "markdown",
   "metadata": {},
   "source": [
    "### Extract_Info component"
   ]
  },
  {
   "cell_type": "code",
   "execution_count": null,
   "metadata": {},
   "outputs": [],
   "source": [
    "import os\n",
    "from promptflow import tool\n",
    "from azure.core.credentials import AzureKeyCredential\n",
    "from azure.ai.documentintelligence import DocumentIntelligenceClient\n",
    "from azure.ai.documentintelligence.models import AnalyzeDocumentRequest\n",
    "\n",
    "# Use environment variables for security\n",
    "endpoint = \"\"\n",
    "key = \"\"\n",
    "\n",
    "@tool\n",
    "def document_intelligence(url: str) -> dict:\n",
    "    \"\"\"\n",
    "    Extracts invoice details from a document using Azure Document Intelligence.\n",
    "    \n",
    "    Parameters:\n",
    "        url (str): The URL of the document to analyze.\n",
    "    \n",
    "    Returns:\n",
    "        dict: A dictionary containing extracted invoice data.\n",
    "    \"\"\"\n",
    "\n",
    "    document_intelligence_client = DocumentIntelligenceClient(\n",
    "        endpoint=endpoint, credential=AzureKeyCredential(key)\n",
    "    )\n",
    "\n",
    "    poller = document_intelligence_client.begin_analyze_document(\n",
    "        \"prebuilt-invoice\", AnalyzeDocumentRequest(url_source=url)\n",
    "    )\n",
    "    invoices = poller.result()\n",
    "\n",
    "    invoice_data = []\n",
    "\n",
    "    for invoice in invoices.documents:\n",
    "        invoice_dict = {}\n",
    "\n",
    "        def add_field(field_name, invoice_field, value_attr):\n",
    "            \"\"\"\n",
    "            Extracts field values safely, handling nested attributes properly.\n",
    "            \"\"\"\n",
    "            if invoice_field:\n",
    "                if \".\" in value_attr:  # Handle nested attributes (e.g., value_currency.amount)\n",
    "                    obj_attr, sub_attr = value_attr.split(\".\")\n",
    "                    invoice_dict[field_name] = getattr(getattr(invoice_field, obj_attr, None), sub_attr, None)\n",
    "                else:\n",
    "                    invoice_dict[field_name] = getattr(invoice_field, value_attr, None)\n",
    "\n",
    "        # Extract Invoice Fields\n",
    "        add_field(\"VendorName\", invoice.fields.get(\"VendorName\"), \"value_string\")\n",
    "        add_field(\"VendorAddress\", invoice.fields.get(\"VendorAddress\"), \"value_address\")\n",
    "        add_field(\"CustomerName\", invoice.fields.get(\"CustomerName\"), \"value_string\")\n",
    "        add_field(\"InvoiceId\", invoice.fields.get(\"InvoiceId\"), \"value_string\")\n",
    "        add_field(\"InvoiceDate\", invoice.fields.get(\"InvoiceDate\"), \"value_date\")\n",
    "        add_field(\"InvoiceTotal\", invoice.fields.get(\"InvoiceTotal\"), \"value_currency.amount\")\n",
    "        add_field(\"DueDate\", invoice.fields.get(\"DueDate\"), \"value_date\")\n",
    "        add_field(\"AmountDue\", invoice.fields.get(\"AmountDue\"), \"value_currency.amount\")\n",
    "\n",
    "        # Extract Items Safely\n",
    "        invoice_dict[\"Items\"] = []\n",
    "        items_field = invoice.fields.get(\"Items\")\n",
    "\n",
    "        if items_field and items_field.value_array:\n",
    "            for item in items_field.value_array:\n",
    "                item_dict = {}\n",
    "\n",
    "                def safe_add_item(field_name, item_object, key, value_attr):\n",
    "                    \"\"\"Safely add item fields, avoiding None errors.\"\"\"\n",
    "                    field = item_object.get(key)\n",
    "                    if field:\n",
    "                        if \".\" in value_attr:\n",
    "                            obj_attr, sub_attr = value_attr.split(\".\")\n",
    "                            item_dict[field_name] = getattr(getattr(field, obj_attr, None), sub_attr, None)\n",
    "                        else:\n",
    "                            item_dict[field_name] = getattr(field, value_attr, None)\n",
    "\n",
    "                safe_add_item(\"Description\", item.value_object, \"Description\", \"value_string\")\n",
    "                safe_add_item(\"Quantity\", item.value_object, \"Quantity\", \"value_number\")\n",
    "                safe_add_item(\"UnitPrice\", item.value_object, \"UnitPrice\", \"value_currency.amount\")\n",
    "                safe_add_item(\"ProductCode\", item.value_object, \"ProductCode\", \"value_string\")\n",
    "                safe_add_item(\"Amount\", item.value_object, \"Amount\", \"value_currency.amount\")\n",
    "\n",
    "                invoice_dict[\"Items\"].append(item_dict)\n",
    "\n",
    "        invoice_data.append(invoice_dict)\n",
    "\n",
    "    return invoice_data\n"
   ]
  },
  {
   "cell_type": "markdown",
   "metadata": {},
   "source": [
    "### Summarisation Component"
   ]
  },
  {
   "cell_type": "code",
   "execution_count": null,
   "metadata": {},
   "outputs": [],
   "source": [
    "#system:\n",
    "You are a helpful AI assistant made to behave as a document extraction bot. \n",
    "Prior to calling you, the analyse API of azure document intelligence was called\n",
    "to extract information from a document and you will be provided with the JSON schema\n",
    "of the document information containing key-value pairs like merchant address, items,\n",
    "subtotal value etc of a single invoice.\n",
    "\n",
    "Your work is to generate a markdown of the information contained in the invoice \n",
    "passed down to you!\n",
    "\n",
    "#user:\n",
    "document extracted information: {{doc__information}}"
   ]
  },
  {
   "cell_type": "markdown",
   "metadata": {},
   "source": [
    "### Output_Parser component"
   ]
  },
  {
   "cell_type": "code",
   "execution_count": null,
   "metadata": {},
   "outputs": [],
   "source": [
    "from promptflow import tool\n",
    "import json\n",
    "from datetime import date\n",
    "\n",
    "def serialize(obj):\n",
    "    \"\"\"Custom serialization function for unsupported types.\"\"\"\n",
    "    if isinstance(obj, date):  # Convert datetime.date to string\n",
    "        return obj.isoformat()\n",
    "    if hasattr(obj, \"__dict__\"):  # Convert objects with `__dict__` attribute to a dict\n",
    "        return obj.__dict__\n",
    "    return str(obj)  # Fallback to string conversion\n",
    "\n",
    "@tool\n",
    "def my_python_tool(markdown_text: str, json_struct: dict):\n",
    "    final_response_dict = {\n",
    "        \"markdown_text\": markdown_text,\n",
    "        \"json_struct\": json_struct\n",
    "    }\n",
    "\n",
    "    return json.loads(json.dumps(final_response_dict, default=serialize))  # Ensure JSON serializable\n"
   ]
  }
 ],
 "metadata": {
  "language_info": {
   "name": "python"
  }
 },
 "nbformat": 4,
 "nbformat_minor": 2
}
